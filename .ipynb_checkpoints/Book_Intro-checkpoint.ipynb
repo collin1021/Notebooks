{
 "cells": [
  {
   "cell_type": "markdown",
   "metadata": {},
   "source": [
    "# Notebook Introduction\n",
    "\n",
    "This set of compiled notebooks will attempt to summarize *Ever J. Barbero's* book titled ***Introduction to Composite Materials Design***. These notebooks will not be verbatim but rather a condensed interactive set of summaries, important figures, and working examples. The hope is that most of the relevant information given in Barbero's text will be covered here so that a general understanding of composite design can be understood."
   ]
  }
 ],
 "metadata": {
  "hide_input": false,
  "kernelspec": {
   "display_name": "Python 3",
   "language": "python",
   "name": "python3"
  },
  "language_info": {
   "codemirror_mode": {
    "name": "ipython",
    "version": 3
   },
   "file_extension": ".py",
   "mimetype": "text/x-python",
   "name": "python",
   "nbconvert_exporter": "python",
   "pygments_lexer": "ipython3",
   "version": "3.6.3"
  },
  "toc": {
   "nav_menu": {},
   "number_sections": true,
   "sideBar": true,
   "skip_h1_title": false,
   "title_cell": "Table of Contents",
   "title_sidebar": "Contents",
   "toc_cell": false,
   "toc_position": {},
   "toc_section_display": true,
   "toc_window_display": false
  }
 },
 "nbformat": 4,
 "nbformat_minor": 2
}
