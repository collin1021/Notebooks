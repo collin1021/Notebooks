{
 "cells": [
  {
   "cell_type": "markdown",
   "metadata": {},
   "source": [
    "# Fonts and Headers\n",
    "\n",
    "This page will cover how to change some of the default formatting of the Jupyter Notebook. The credit for this solution is owed to [this page](https://stackoverflow.com/questions/44628975/is-it-possible-to-add-css-style-to-jupyter-notebook-from-separate-file?rq=1) and [this page](https://martinapugliese.github.io/jupyter-customise/) which lead to [this repository](https://github.com/CamDavidsonPilon/Probabilistic-Programming-and-Bayesian-Methods-for-Hackers) with an example formatting file.\n",
    "\n",
    "**_Hold on a sec. I clicked those links but what the heck is a .css file?_** \n",
    "\n",
    "A .css file is a cascading style sheets file that is frequently used in HTML applications to customize the page using specific style. There is a couple of ways to implement one for Jupyter. The first is to create a `custom` directory in the `.jupyter` directory and creating a `custom.css` file here. The result would be a file located as such: `.jupyter/custom/custom.css`. However, the main drawback is that this method overwrites the formatting of every Jupyter Notebook on the computer. **Yikes.**\n",
    "\n",
    "\n",
    "Instead, a solution has be created that allows you to set the format on a page-by-page basis. I will show you a couple examples. I have included the used `.css` files in this repository under `[home directory]/styles/`.\n",
    "\n",
    "\n",
    "By default, there are header formats that look like this:\n",
    "# Header 1\n",
    "## Header 2\n",
    "### Header 3\n",
    "\n",
    "and so on.\n",
    "\n",
    "These seem a little bland. However, if I use this set of commands in a python cell:  \n",
    "`from IPython.core.display import HTML`  \n",
    "`def css_styling():`  \n",
    "&nbsp;&nbsp;&nbsp;&nbsp;&nbsp;&nbsp;`styles = open(\"styles/standard.css\", \"r\").read()`  \n",
    "&nbsp;&nbsp;&nbsp;&nbsp;&nbsp;&nbsp;`return HTML(styles)`  \n",
    "`css_styling()`  \n",
    "at the end of the `.ipynb` file, the format should take over. You can see in the cell below I have invoked a `standard.css` file that is basically empty to control the format of this markdown cell. In the page I will use a radicalized version of a formating file to show how you can really affect the markdown. "
   ]
  },
  {
   "cell_type": "code",
   "execution_count": 10,
   "metadata": {},
   "outputs": [
    {
     "data": {
      "text/html": [
       "<style>\n",
       "</style>"
      ],
      "text/plain": [
       "<IPython.core.display.HTML object>"
      ]
     },
     "execution_count": 10,
     "metadata": {},
     "output_type": "execute_result"
    }
   ],
   "source": [
    "from IPython.core.display import HTML\n",
    "\n",
    "def css_styling():\n",
    "    styles = open(\"styles/standard.css\", \"r\").read()\n",
    "    return HTML(styles)\n",
    "css_styling()"
   ]
  },
  {
   "cell_type": "markdown",
   "metadata": {},
   "source": [
    "[Next Page](Fonts_header_2.ipynb)"
   ]
  },
  {
   "cell_type": "code",
   "execution_count": null,
   "metadata": {},
   "outputs": [],
   "source": []
  }
 ],
 "metadata": {
  "kernelspec": {
   "display_name": "Python 3",
   "language": "python",
   "name": "python3"
  },
  "language_info": {
   "codemirror_mode": {
    "name": "ipython",
    "version": 3
   },
   "file_extension": ".py",
   "mimetype": "text/x-python",
   "name": "python",
   "nbconvert_exporter": "python",
   "pygments_lexer": "ipython3",
   "version": "3.7.0"
  }
 },
 "nbformat": 4,
 "nbformat_minor": 2
}
