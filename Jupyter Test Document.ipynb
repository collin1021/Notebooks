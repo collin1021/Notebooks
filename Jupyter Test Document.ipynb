{
 "cells": [
  {
   "cell_type": "markdown",
   "metadata": {},
   "source": [
    "# Example of Jupyter File with Rule of Mixtures\n",
    "    \n",
    "   In composite analytical analysis, one of the most basic forms of material property homogenaztions is the rule of mixtures, given by the eqauation:\n",
    "$$\n",
    "E_c = fE_f + \\left(1-f\\right)E_m\n",
    "$$\n",
    "<br>\n",
    "Where:\n",
    "* $E_c =$ Modulus of the Composite\n",
    "* $E_f =$ Modulus of the Fiber Material\n",
    "* $E_m =$ Modulus of the Matrix Material\n",
    "* $f = $ The volume fraction\n",
    "    \n",
    "Using this formula, we can quickly approximate the homogenized values.\n",
    "## Trap Link\n",
    "\n",
    "Link to [Trapezoidal Rule](subdir/Trapezoid Rule.ipynb)"
   ]
  },
  {
   "cell_type": "code",
   "execution_count": null,
   "metadata": {},
   "outputs": [],
   "source": [
    "import matplotlib.pyplot as plt\n",
    "import matplotlib.patches as patches\n",
    "import numpy as np\n",
    "\n",
    "Ef = 1e9\n",
    "Em = 1e7\n",
    "vfrac = 0.5\n",
    "\n",
    "Ec = vfrac*Ef +(1-vfrac)*Em\n",
    "\n",
    "print('The approximate Composite modulus is: {0:.0f} Pa'.format(Ec))"
   ]
  },
  {
   "cell_type": "markdown",
   "metadata": {},
   "source": [
    "We can also visualize changing the volume fraction by plotting a cross-section of the composite."
   ]
  },
  {
   "cell_type": "code",
   "execution_count": null,
   "metadata": {},
   "outputs": [],
   "source": [
    "numfib = 4\n",
    "\n",
    "recx = 6\n",
    "recy = 2\n",
    "\n",
    "volfib = (recx*recy)*vfrac\n",
    "\n",
    "radf = np.sqrt((volfib/numfib)/np.pi)\n",
    "\n",
    "sepfac = (recx - radf*2*numfib)/numfib\n",
    "\n",
    "if sepfac < 0:\n",
    "    print(\"Specified number of fibers and volume fraction unobtainable.\\n\")\n",
    "    maxr = (recx/numfib)/2.0\n",
    "    volfibmax = np.pi*maxr*maxr*numfib\n",
    "    vfmax = volfibmax/(recx*recy)\n",
    "    print(\"Maximum volume fraction obtainable is: {0:.4f}\".format(vfmax))\n",
    "    radf = maxr\n",
    "    yloc = (recy-2*radf)/2.0\n",
    "    sepfac = (recx - radf*2*numfib)/numfib\n",
    "    print(sepfac)\n",
    "    fig1 = plt.figure()\n",
    "    ax1 = fig1.add_subplot(111, aspect='equal')\n",
    "    ax1.add_patch(\n",
    "        patches.Rectangle(\n",
    "            (0.0, 0.0),   # (x,y)\n",
    "            recx,          # width\n",
    "            recy,          # height\n",
    "        )\n",
    "    )\n",
    "    plt.ylim(ymax=recy)\n",
    "    plt.ylim(ymin=0)\n",
    "    plt.xlim(xmin=0)\n",
    "    plt.xlim(xmax=recx)\n",
    "    xloc = sepfac/2.0\n",
    "    for _ in range(numfib):\n",
    "        fib1 = plt.Circle((xloc+radf,radf+yloc),radf,color='r')\n",
    "        ax1.add_artist(fib1)\n",
    "        xloc += 2*radf\n",
    "        xloc +=sepfac\n",
    "\n",
    "    plt.show()\n",
    "    \n",
    "else:\n",
    "    yloc = (recy-2*radf)/2.0\n",
    "    fig1 = plt.figure()\n",
    "    ax1 = fig1.add_subplot(111, aspect='equal')\n",
    "    ax1.add_patch(\n",
    "        patches.Rectangle(\n",
    "            (0.0, 0.0),   # (x,y)\n",
    "            recx,          # width\n",
    "            recy,          # height\n",
    "        )\n",
    "    )\n",
    "    plt.ylim(ymax=recy)\n",
    "    plt.ylim(ymin=0)\n",
    "    plt.xlim(xmin=0)\n",
    "    plt.xlim(xmax=recx)\n",
    "    xloc = sepfac/2.0\n",
    "    for _ in range(numfib):\n",
    "        fib1 = plt.Circle((xloc+radf,radf+yloc),radf,color='r')\n",
    "        ax1.add_artist(fib1)\n",
    "        xloc += 2*radf\n",
    "        xloc +=sepfac\n",
    "\n",
    "plt.show()\n"
   ]
  },
  {
   "cell_type": "markdown",
   "metadata": {},
   "source": [
    "# END"
   ]
  },
  {
   "cell_type": "code",
   "execution_count": null,
   "metadata": {},
   "outputs": [],
   "source": [
    "%lsmagic\n"
   ]
  }
 ],
 "metadata": {
  "hide_input": false,
  "kernelspec": {
   "display_name": "Python 3",
   "language": "python",
   "name": "python3"
  },
  "language_info": {
   "codemirror_mode": {
    "name": "ipython",
    "version": 3
   },
   "file_extension": ".py",
   "mimetype": "text/x-python",
   "name": "python",
   "nbconvert_exporter": "python",
   "pygments_lexer": "ipython3",
   "version": "3.6.3"
  },
  "toc": {
   "nav_menu": {
    "height": "125px",
    "width": "354px"
   },
   "number_sections": true,
   "sideBar": true,
   "skip_h1_title": false,
   "title_cell": "Table of Contents",
   "title_sidebar": "Contents",
   "toc_cell": false,
   "toc_position": {
    "height": "774px",
    "left": "129px",
    "top": "156.5px",
    "width": "190px"
   },
   "toc_section_display": true,
   "toc_window_display": true
  }
 },
 "nbformat": 4,
 "nbformat_minor": 2
}
