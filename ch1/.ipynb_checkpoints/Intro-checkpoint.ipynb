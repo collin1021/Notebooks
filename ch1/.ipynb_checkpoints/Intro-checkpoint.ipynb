{
 "cells": [
  {
   "cell_type": "markdown",
   "metadata": {},
   "source": [
    "# Introduction to Chapter 1\n",
    "\n",
    "The importance of materials throughout history is so large that even certain periods of history have been named after the ages in which they are developed/used (i.e. Stone Age, Bronze Age, Plastic Age, etc.). It would seen that currently we are in the composite stage as fiber-composite materials can be seen in use from boat hulls to golf rods. The purpose of Barbero's book is to give the reader the tools to design and use composites for any application.\n",
    "\n",
    "Barbero states that there is no better way to gain an initial feeling for a composite that observing the fabrication of a composite part. Below is a video showing such a process."
   ]
  },
  {
   "cell_type": "code",
   "execution_count": 3,
   "metadata": {},
   "outputs": [
    {
     "data": {
      "text/html": [
       " \n",
       "<iframe width=\"560\" height=\"315\" src=\"https://www.youtube.com/embed/kUvynPeaHc8\" frameborder=\"0\" allow=\"autoplay; encrypted-media\" allowfullscreen></iframe>"
      ],
      "text/plain": [
       "<IPython.core.display.HTML object>"
      ]
     },
     "metadata": {},
     "output_type": "display_data"
    }
   ],
   "source": [
    "%%HTML\n",
    " \n",
    "<iframe width=\"560\" height=\"315\" src=\"https://www.youtube.com/embed/kUvynPeaHc8\" frameborder=\"0\" allow=\"autoplay; encrypted-media\" allowfullscreen></iframe>"
   ]
  },
  {
   "cell_type": "markdown",
   "metadata": {},
   "source": [
    "Babero also states that there are many ways to tackle the analysis and design of composites. They are covered thoroughly in the book and therefore will be so in this collection of notebooks."
   ]
  }
 ],
 "metadata": {
  "hide_input": false,
  "kernelspec": {
   "display_name": "Python 3",
   "language": "python",
   "name": "python3"
  },
  "language_info": {
   "codemirror_mode": {
    "name": "ipython",
    "version": 3
   },
   "file_extension": ".py",
   "mimetype": "text/x-python",
   "name": "python",
   "nbconvert_exporter": "python",
   "pygments_lexer": "ipython3",
   "version": "3.6.3"
  },
  "toc": {
   "nav_menu": {},
   "number_sections": true,
   "sideBar": true,
   "skip_h1_title": false,
   "title_cell": "Table of Contents",
   "title_sidebar": "Contents",
   "toc_cell": false,
   "toc_position": {},
   "toc_section_display": true,
   "toc_window_display": false
  }
 },
 "nbformat": 4,
 "nbformat_minor": 2
}
